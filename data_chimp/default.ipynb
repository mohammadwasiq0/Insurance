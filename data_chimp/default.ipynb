{
  "cells": [
    {
      "cell_type": "markdown",
      "metadata": {},
      "source": [
        "# Applets\n",
        "\n",
        "Applets are special jupyter notebooks whose cells are automatically run along side your notebooks to show auxiliary information and visualizations about the data you're working with. [histograms.ipynb](./histograms.ipynb), for example, automatically shows histograms for every numeric column in the data frame you're working with. It can be enabled by pressing the \"histograms\" button within the data chimp view.\n",
        "\n",
        "You can create new applets by creating new notebooks in this directory. The name of the notebook will be the label for it's enable/disable button in the UI. Each code cell within a applet has access to a `df` variable that is set to the data frame you're working with. It's also possible to create lists of visualizations from a single data frame using the `get_args` and `visualization` functions. See [histograms.ipynb](./histograms.ipynb) for an example."
      ]
    },
    {
      "cell_type": "markdown",
      "metadata": {},
      "source": [
        "## The \"default\" applet"
      ]
    },
    {
      "cell_type": "markdown",
      "metadata": {},
      "source": [
        "This notebook is the default applet whose cells are always run. The default applet is useful for data quality checks like the one below that shows a data frame with all columns that have more than 3% missing values if there's at least one such column in the data frame you're working with."
      ]
    },
    {
      "cell_type": "code",
      "execution_count": 4,
      "metadata": {},
      "outputs": [
        {
          "data": {
            "text/plain": [
              "Cabin    77.10\n",
              "Age      19.87\n",
              "dtype: float64"
            ]
          },
          "execution_count": 4,
          "metadata": {},
          "output_type": "execute_result"
        }
      ],
      "source": [
        "missing_df = (df\n",
        "  .isnull()\n",
        "  .mean()\n",
        "  .round(4)\n",
        "  .mul(100)\n",
        "  .sort_values(ascending=False)\n",
        ")\n",
        "badly_missing_df = missing_df[missing_df > 3]\n",
        "badly_missing_df if not badly_missing_df.empty else None"
      ]
    },
    {
      "cell_type": "code",
      "execution_count": null,
      "metadata": {},
      "outputs": [
        {
          "ename": "FileNotFoundError",
          "evalue": "[Errno 2] No such file or directory: './data_chimp/flagged.toml'",
          "output_type": "error",
          "traceback": [
            "\u001b[0;31m---------------------------------------------------------------------------\u001b[0m\n",
            "\u001b[0;31mFileNotFoundError\u001b[0m                         Traceback (most recent call last)\n",
            "Cell \u001b[0;32mIn[24], line 25\u001b[0m\n",
            "\u001b[1;32m     18\u001b[0m       flagged_columns \u001b[39m=\u001b[39m [\n",
            "\u001b[1;32m     19\u001b[0m         \u001b[39mf\u001b[39m\u001b[39m\"\u001b[39m\u001b[39m'\u001b[39m\u001b[39m{\u001b[39;00mcolumn[\u001b[39m'\u001b[39m\u001b[39mname\u001b[39m\u001b[39m'\u001b[39m]\u001b[39m}\u001b[39;00m\u001b[39m'\u001b[39m\u001b[39m column flagged because: \u001b[39m\u001b[39m{\u001b[39;00mcolumn[\u001b[39m'\u001b[39m\u001b[39mreason\u001b[39m\u001b[39m'\u001b[39m]\u001b[39m}\u001b[39;00m\u001b[39m\"\u001b[39m\n",
            "\u001b[1;32m     20\u001b[0m         \u001b[39mfor\u001b[39;00m column \u001b[39min\u001b[39;00m columns \n",
            "\u001b[1;32m     21\u001b[0m         \u001b[39mif\u001b[39;00m column[\u001b[39m'\u001b[39m\u001b[39mname\u001b[39m\u001b[39m'\u001b[39m]\u001b[39m.\u001b[39mcasefold() \u001b[39min\u001b[39;00m dc_code\u001b[39m.\u001b[39mcasefold()\n",
            "\u001b[1;32m     22\u001b[0m       ]\n",
            "\u001b[1;32m     23\u001b[0m       \u001b[39mreturn\u001b[39;00m \u001b[39m\"\u001b[39m\u001b[39m\\n\u001b[39;00m\u001b[39m\\n\u001b[39;00m\u001b[39m\"\u001b[39m\u001b[39m.\u001b[39mjoin([\u001b[39m\"\u001b[39m\u001b[39m\\n\u001b[39;00m\u001b[39m\"\u001b[39m\u001b[39m.\u001b[39mjoin(flagged_tables), \u001b[39m\"\u001b[39m\u001b[39m\\n\u001b[39;00m\u001b[39m\"\u001b[39m\u001b[39m.\u001b[39mjoin(flagged_columns)])\n",
            "\u001b[0;32m---> 25\u001b[0m flag_bad_tables()\n",
            "\n",
            "Cell \u001b[0;32mIn[24], line 6\u001b[0m, in \u001b[0;36mflag_bad_tables\u001b[0;34m()\u001b[0m\n",
            "\u001b[1;32m      4\u001b[0m \u001b[39mimport\u001b[39;00m \u001b[39mtomllib\u001b[39;00m\n",
            "\u001b[1;32m      5\u001b[0m \u001b[39mfrom\u001b[39;00m \u001b[39mfunctools\u001b[39;00m \u001b[39mimport\u001b[39;00m reduce\n",
            "\u001b[0;32m----> 6\u001b[0m \u001b[39mwith\u001b[39;00m \u001b[39mopen\u001b[39;49m(\u001b[39m\"\u001b[39;49m\u001b[39m./data_chimp/flagged.toml\u001b[39;49m\u001b[39m\"\u001b[39;49m, \u001b[39m\"\u001b[39;49m\u001b[39mrb\u001b[39;49m\u001b[39m\"\u001b[39;49m) \u001b[39mas\u001b[39;00m f:\n",
            "\u001b[1;32m      7\u001b[0m   flagged \u001b[39m=\u001b[39m tomllib\u001b[39m.\u001b[39mload(f)\n",
            "\u001b[1;32m      8\u001b[0m   flagged_tables \u001b[39m=\u001b[39m [\n",
            "\u001b[1;32m      9\u001b[0m     \u001b[39mf\u001b[39m\u001b[39m\"\u001b[39m\u001b[39m'\u001b[39m\u001b[39m{\u001b[39;00mtable[\u001b[39m'\u001b[39m\u001b[39mname\u001b[39m\u001b[39m'\u001b[39m]\u001b[39m}\u001b[39;00m\u001b[39m'\u001b[39m\u001b[39m table flagged because: \u001b[39m\u001b[39m{\u001b[39;00mtable[\u001b[39m'\u001b[39m\u001b[39mreason\u001b[39m\u001b[39m'\u001b[39m]\u001b[39m}\u001b[39;00m\u001b[39m\"\u001b[39m \n",
            "\u001b[1;32m     10\u001b[0m     \u001b[39mfor\u001b[39;00m table \u001b[39min\u001b[39;00m flagged[\u001b[39m\"\u001b[39m\u001b[39mtables\u001b[39m\u001b[39m\"\u001b[39m] \n",
            "\u001b[1;32m     11\u001b[0m     \u001b[39mif\u001b[39;00m \u001b[39m\"\u001b[39m\u001b[39mcolumns\u001b[39m\u001b[39m\"\u001b[39m \u001b[39mnot\u001b[39;00m \u001b[39min\u001b[39;00m table \u001b[39mand\u001b[39;00m table[\u001b[39m\"\u001b[39m\u001b[39mname\u001b[39m\u001b[39m\"\u001b[39m]\u001b[39m.\u001b[39mcasefold() \u001b[39min\u001b[39;00m dc_code\u001b[39m.\u001b[39mcasefold()\n",
            "\u001b[1;32m     12\u001b[0m   ]\n",
            "\n",
            "File \u001b[0;32m~/.pyenv/versions/3.11.1/lib/python3.11/site-packages/IPython/core/interactiveshell.py:282\u001b[0m, in \u001b[0;36m_modified_open\u001b[0;34m(file, *args, **kwargs)\u001b[0m\n",
            "\u001b[1;32m    275\u001b[0m \u001b[39mif\u001b[39;00m file \u001b[39min\u001b[39;00m {\u001b[39m0\u001b[39m, \u001b[39m1\u001b[39m, \u001b[39m2\u001b[39m}:\n",
            "\u001b[1;32m    276\u001b[0m     \u001b[39mraise\u001b[39;00m \u001b[39mValueError\u001b[39;00m(\n",
            "\u001b[1;32m    277\u001b[0m         \u001b[39mf\u001b[39m\u001b[39m\"\u001b[39m\u001b[39mIPython won\u001b[39m\u001b[39m'\u001b[39m\u001b[39mt let you open fd=\u001b[39m\u001b[39m{\u001b[39;00mfile\u001b[39m}\u001b[39;00m\u001b[39m by default \u001b[39m\u001b[39m\"\u001b[39m\n",
            "\u001b[1;32m    278\u001b[0m         \u001b[39m\"\u001b[39m\u001b[39mas it is likely to crash IPython. If you know what you are doing, \u001b[39m\u001b[39m\"\u001b[39m\n",
            "\u001b[1;32m    279\u001b[0m         \u001b[39m\"\u001b[39m\u001b[39myou can use builtins\u001b[39m\u001b[39m'\u001b[39m\u001b[39m open.\u001b[39m\u001b[39m\"\u001b[39m\n",
            "\u001b[1;32m    280\u001b[0m     )\n",
            "\u001b[0;32m--> 282\u001b[0m \u001b[39mreturn\u001b[39;00m io_open(file, \u001b[39m*\u001b[39;49margs, \u001b[39m*\u001b[39;49m\u001b[39m*\u001b[39;49mkwargs)\n",
            "\n",
            "\u001b[0;31mFileNotFoundError\u001b[0m: [Errno 2] No such file or directory: './data_chimp/flagged.toml'"
          ]
        }
      ],
      "source": [
        "import os\n",
        "import sys\n",
        "\n",
        "def flag_bad_tables():\n",
        "  global dc_code\n",
        "  if sys.version_info.major == 3 and sys.version_info.minor > 10:\n",
        "    import tomllib\n",
        "    from functools import reduce\n",
        "    with open(\"./data_chimp/flagged.toml\", \"rb\") as f:\n",
        "      flagged = tomllib.load(f)\n",
        "      if len(flagged) == 0:\n",
        "        return\n",
        "      flagged_tables = [\n",
        "        f\"'{table['name']}' table flagged because: {table['reason']}\" \n",
        "        for table in flagged[\"tables\"] \n",
        "        if \"columns\" not in table and table[\"name\"].casefold() in dc_code.casefold()\n",
        "      ]\n",
        "      columns = reduce(lambda a, b: a + b, [\n",
        "        table[\"columns\"] \n",
        "        for table in flagged[\"tables\"] \n",
        "        if table.get(\"columns\")\n",
        "      ])\n",
        "      flagged_columns = [\n",
        "        f\"'{column['name']}' column flagged because: {column['reason']}\"\n",
        "        for column in columns \n",
        "        if column['name'].casefold() in dc_code.casefold()\n",
        "      ]\n",
        "      result_string = os.linesep.join([os.linesep.join(flagged_tables), os.linesep.join(flagged_columns)])\n",
        "      return result_string if len(flagged_tables) > 0 or len(flagged_columns) > 0 else None\n",
        "\n",
        "flag_bad_tables()"
      ]
    },
    {
      "attachments": {},
      "cell_type": "markdown",
      "metadata": {},
      "source": [
        "The following cells are only for testing the above ones. We tell data chimp to ignore them by adding the `dchimp.ignore` cell tag."
      ]
    },
    {
      "cell_type": "code",
      "execution_count": 2,
      "metadata": {
        "tags": [
          "dchimp.ignore"
        ]
      },
      "outputs": [],
      "source": [
        "import pandas as pd\n",
        "df = pd.read_csv(\"https://raw.githubusercontent.com/datasciencedojo/datasets/master/titanic.csv\")"
      ]
    },
    {
      "cell_type": "code",
      "execution_count": null,
      "metadata": {
        "tags": [
          "dchimp.ignore"
        ]
      },
      "outputs": [],
      "source": [
        "dc_code = \"\"\"\n",
        "SELECT id, last_purchase FROM customers\n",
        "JOIN users USING id\n",
        "\"\"\""
      ]
    }
  ],
  "metadata": {
    "kernelspec": {
      "display_name": "Python 3.10.7 ('data_chimp_executor-0Q07yWoC')",
      "language": "python",
      "name": "python3"
    },
    "language_info": {
      "codemirror_mode": {
        "name": "ipython",
        "version": 3
      },
      "file_extension": ".py",
      "mimetype": "text/x-python",
      "name": "python",
      "nbconvert_exporter": "python",
      "pygments_lexer": "ipython3",
      "version": "3.10.7 (main, Oct 12 2022, 14:09:10) [Clang 13.1.6 (clang-1316.0.21.2.5)]"
    },
    "orig_nbformat": 4,
    "vscode": {
      "interpreter": {
        "hash": "1b8eff0683f32805dec41327b9c251fc11b48a57e78780a3dee13772bd50b993"
      }
    }
  },
  "nbformat": 4,
  "nbformat_minor": 2
}
