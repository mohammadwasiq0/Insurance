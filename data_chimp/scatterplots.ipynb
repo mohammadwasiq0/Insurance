{
 "cells": [
  {
   "cell_type": "markdown",
   "metadata": {},
   "source": [
    "# Scatterplots\n",
    "\n",
    "This applet appears as a \"scatterplots\" button in the data chimp view, and when it's enabled, it automatically shows a scatter plot for every combination of numeric columns within a data frame. It's possible to get the code that generated each scatter plot so that you can iterate on it (e.g., by adding a log scale, etc.).\n",
    "\n",
    "## How it works\n",
    "\n",
    "This applet uses two functions that data chimp interprets in a special way. `get_args` returns a list of dictionaries whose keys are argument names and whose values are their corresponding values. Each arg dictionary of this list is passed into `visualize`, which uses these dictionaries to create and return a visualization."
   ]
  },
  {
   "cell_type": "code",
   "execution_count": null,
   "metadata": {},
   "outputs": [],
   "source": [
    "from itertools import combinations\n",
    "\n",
    "def get_args(df):    \n",
    "    return [{'x': x, 'y': y} for (x, y) in combinations(df.columns.to_list(), 2) \n",
    "        if df[x].dtype.kind in 'iuf' and df[y].dtype.kind in 'iuf']\n",
    "\n",
    "def visualize(df, args):    \n",
    "    return df.plot.scatter(x=args['x'], y=args['y'])"
   ]
  },
  {
   "cell_type": "markdown",
   "metadata": {},
   "source": [
    "[histograms.ipynb](./histograms.ipynb) is another example of an applet that uses these special functions. See [default.ipynb](./default.ipynb) for more docs on how applets work in general."
   ]
  }
 ],
 "metadata": {
  "kernelspec": {
   "display_name": "Python 3.10.7 ('data_chimp_executor-0Q07yWoC')",
   "language": "python",
   "name": "python3"
  },
  "language_info": {
   "name": "python",
   "version": "3.10.7"
  },
  "orig_nbformat": 4,
  "vscode": {
   "interpreter": {
    "hash": "1b8eff0683f32805dec41327b9c251fc11b48a57e78780a3dee13772bd50b993"
   }
  }
 },
 "nbformat": 4,
 "nbformat_minor": 2
}
